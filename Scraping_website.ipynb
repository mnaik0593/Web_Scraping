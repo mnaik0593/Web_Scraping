{
 "cells": [
  {
   "cell_type": "markdown",
   "metadata": {},
   "source": [
    "# COMP47670 Assignment 2: Text Classification"
   ]
  },
  {
   "cell_type": "markdown",
   "metadata": {},
   "source": [
    "### Name: Mayur Naik [18200269]\n",
    "### Name: Akanksha Upadhyay [18200268]"
   ]
  },
  {
   "cell_type": "markdown",
   "metadata": {},
   "source": [
    "<b> AIM OF THE ASSIGNMENT : </b>\n",
    "\n",
    "The objective of this assignment is to scrape consumer reviews from a set of web pages & evaluate the performance of text classification on the data using classification models.\n",
    "\n",
    "Categories used for the following project are: <b>Restaurant and hotel_travel </b>"
   ]
  },
  {
   "cell_type": "markdown",
   "metadata": {},
   "source": [
    "<b>Importing libraries for dataset preparation, feature engineering, model training </b>"
   ]
  },
  {
   "cell_type": "code",
   "execution_count": 1,
   "metadata": {},
   "outputs": [],
   "source": [
    "import urllib\n",
    "import bs4\n",
    "import requests\n",
    "import re\n",
    "\n",
    "import pandas as pd\n",
    "import numpy as np\n",
    "import seaborn as sns\n",
    "import matplotlib.pyplot as plt\n",
    "from sklearn.metrics import roc_curve, auc\n",
    "from sklearn import metrics\n",
    "\n",
    "\n",
    "from nltk.corpus import stopwords\n",
    "from nltk.stem.wordnet import WordNetLemmatizer\n",
    "\n",
    "\n",
    "from sklearn.feature_extraction.text import CountVectorizer\n",
    "from sklearn.model_selection import train_test_split\n",
    "from sklearn.feature_extraction.text import TfidfVectorizer\n",
    "from sklearn.linear_model import LogisticRegression\n",
    "from sklearn.ensemble import RandomForestClassifier\n",
    "from sklearn import svm\n",
    "from sklearn.naive_bayes import MultinomialNB\n",
    "from sklearn.neighbors import KNeighborsClassifier\n",
    "from sklearn.metrics import accuracy_score\n",
    "from sklearn.metrics import confusion_matrix, classification_report\n",
    "\n",
    "%matplotlib inline\n"
   ]
  },
  {
   "cell_type": "markdown",
   "metadata": {},
   "source": [
    "### Web scraping"
   ]
  },
  {
   "cell_type": "markdown",
   "metadata": {},
   "source": [
    "Web scraping is a technique to extract data from the urls using a tool that acts as a web browser\n",
    "\n",
    "<b>In Task 1: </b>\n",
    "1. Data Identification: The structure of the web pages are analysed, and using the below function we have reached to the url(programmatically) that comprises of the required data.\n",
    "\n",
    "\n",
    "2. Data Collection: These web pages are downloaded just like browser.The built-in Python urllib.request module has functions which is used for downloading content from HTTP URLs.\n",
    "\n",
    "\n",
    "3. Data extraction: We have used third-party Beautiful Soup package for working these HTML pages\n",
    "    These web pages are parsed to extract the data from url http://mlg.ucd.ie/modules/yalp/, the two categories are selected: \n",
    "    \n",
    "    Category A: hotels_travel\n",
    "    Category B: restaurants\n",
    "    \n",
    "    The data is extracted from the URL by passing category name as a parameter and saved the data in a dataframe. Further, the dataframe is used to generate the two csv files, hotels_travel_list.csv and restaurants_list.csv\n",
    "    The two datasets contains: Rating & Reviews of the each categories.\n",
    "    Ratings are in the range 1 to 5, so for further classification purpose, We have classified ratings as positive and negative.\n"
   ]
  },
  {
   "cell_type": "markdown",
   "metadata": {},
   "source": [
    "Scraping function is written for extracting the data from the urls and generating the 2 CSV files"
   ]
  },
  {
   "cell_type": "code",
   "execution_count": 2,
   "metadata": {},
   "outputs": [],
   "source": [
    "def scraping(main_category):\n",
    "    \n",
    "    #iterate through main_category\n",
    "    for c in main_category:\n",
    "        \n",
    "        #append name of main_category with base url\n",
    "        webData = requests.get(\"http://mlg.ucd.ie/modules/yalp/%s\"%c)\n",
    "        html_soup = bs4.BeautifulSoup(webData.text, \"html.parser\")\n",
    "        arrReview = []\n",
    "        arrRating = []\n",
    "        \n",
    "        #iterate through sub_category \n",
    "        for subCategory in html_soup.find_all('a', href=True):\n",
    "            link = subCategory['href']\n",
    "            subCategory_link = \"http://mlg.ucd.ie/modules/yalp/%s\"%link\n",
    "            webData_subCategory_name = requests.get(subCategory_link)\n",
    "            htmlSoup_subCategory_name = bs4.BeautifulSoup(webData_subCategory_name.text, \"html.parser\")\n",
    "            \n",
    "            #iterate through reviews and ratings\n",
    "            for i in htmlSoup_subCategory_name.find_all('div', class_='review'):\n",
    "                reviewTxt = i.find('p', class_ = 'text')\n",
    "                review = reviewTxt.get_text()\n",
    "                \n",
    "                #append review without white spaces by using strip()\n",
    "                arrReview.append(review.strip())\n",
    "                images = i.find('img')\n",
    "                star_rating = images['alt']\n",
    "                \n",
    "                #convert number of stars to positive negative rating\n",
    "                if int(star_rating[:1]) <= 3:\n",
    "                    finalRating = 'negative'\n",
    "                else:\n",
    "                    finalRating = 'positive'\n",
    "                arrRating.append(finalRating)\n",
    "                \n",
    "        #preparing data for dataframe\n",
    "        data = {'Review': arrReview,'Ratings': arrRating}\n",
    "        df = pd.DataFrame(data, columns= ['Review', 'Ratings'])\n",
    "        \n",
    "        #sliced fileName by removing last 5 characters (.html) for assigning relevant file name to specific csv files\n",
    "        fileName = c[:-5]\n",
    "        print(\"CSV files generated\")\n",
    "        df.to_csv('%s.csv'%fileName, index = False)"
   ]
  },
  {
   "cell_type": "markdown",
   "metadata": {},
   "source": [
    "### Get data from the link mentioned in the pdf, Call scraping function"
   ]
  },
  {
   "cell_type": "markdown",
   "metadata": {},
   "source": [
    "Fetching the data from the url in a try catch block, catch can be used when we cannot access the URL\n"
   ]
  },
  {
   "cell_type": "code",
   "execution_count": 3,
   "metadata": {},
   "outputs": [
    {
     "name": "stdout",
     "output_type": "stream",
     "text": [
      "CSV files generated\n",
      "CSV files generated\n"
     ]
    }
   ],
   "source": [
    "url = \"http://mlg.ucd.ie/modules/yalp/\"\n",
    "try:\n",
    "    data = requests.get(url)\n",
    "except:\n",
    "    print(\"Failed to retrieve %s\" % url)\n",
    "\n",
    "html_soup = bs4.BeautifulSoup(data.text, 'html.parser')\n",
    "\n",
    "#create an empty arrayOfCategory \n",
    "arrrayOfCategory = []\n",
    "\n",
    "#for loop for iterating through 5 categories and appending them to arrayOfCategory\n",
    "for i in html_soup.find_all('a', href=True):\n",
    "    arrrayOfCategory.append(i['href'])\n",
    "    \n",
    "#call function scraping by p assign arrayOfCategory as a parameter with two selected categories\n",
    "#arrayOfCategory[3:5] i.e hotels_travel_list and restaurants_list)\n",
    "scraping(arrrayOfCategory[3:5])\n"
   ]
  },
  {
   "cell_type": "markdown",
   "metadata": {},
   "source": [
    "### Read data from CSVs\n",
    "Each csv file consists of Review and Ratings, where, Review consists of set of words and ratings are positive and negative."
   ]
  },
  {
   "cell_type": "code",
   "execution_count": 4,
   "metadata": {},
   "outputs": [],
   "source": [
    "data_restaurant = pd.read_csv('restaurants_list.csv')\n",
    "data_hotels_travel = pd.read_csv('hotels_travel_list.csv')"
   ]
  },
  {
   "cell_type": "markdown",
   "metadata": {},
   "source": [
    "# Task 2: Pre-processing, Classification & Evaluation"
   ]
  },
  {
   "cell_type": "markdown",
   "metadata": {},
   "source": [
    "<b> a) Preprocessing data: </b>\n",
    "\n",
    "The data extracted from the two categories namely: Hotel_travel, Restaurants contains words, text and sentences which are written in natural language. This data needs to be pre-processed because of the following reasons:\n",
    "\n",
    "1. Some of the words are frequently used and provides less meaning and hence these words should be eliminated from the text to extract more meaningful words from the text. For example, the, is, a etc.\n",
    "\n",
    "2. There are some words in the text which contains accented differences (cliche, cliché), capitals(They, they) and acronyms(asap) which should be fixed so that all the words follow the same standard and while calculating the frequency, since they will be considered as same words.\n",
    "\n",
    "3. The text comprises of words that have same meaning but appear in variations and hence needs to be identified\n",
    "\n",
    "\n",
    "<b> b) Build Classification Model: </b>\n",
    "    \n",
    "The classification model highly depends upon the type of data user is working with, so for text classification, models that we have considered are, KNN, RandomForest, SVM, Logistic Regression. The main idea is to identify which model performs best on text data. \n",
    "In second task, we are training and testing the models on same Category data. After the models are fitted, the further evaluations are done for getting the best model.\n",
    "\n",
    "    \n",
    "<b> c) Evalaution of the Model: </b>\n",
    "\n",
    "Evaluation is done for analysing which model gives accurate predictions.\n",
    "The models are evaluated by standard evaluation approach that involves splitting the data into train data and test data. For evaluation, hold out strategy is used for holding back 25% of data for evaluation whereas, 75% of data for training.\n",
    "Evaluation measures used are accuracy, confusion matrix and classification report\n",
    "Based on the accuracy, best two models giving maximum accuracies are considered for further analysis. \n",
    "which includes, plotting the ROC curve and understanding which model is capable of diffrentiating the two classes(positive and negative) \n",
    "\n"
   ]
  },
  {
   "cell_type": "markdown",
   "metadata": {},
   "source": [
    "### Function for removing the special characters and perform lemmatization\n",
    "\n",
    "1. Special characters are eliminated using regular expressions.  \n",
    "2. Lemmatization is used in order to convert the words to their root form eg: like and liked\n",
    "3. Text data is converted to lower case"
   ]
  },
  {
   "cell_type": "code",
   "execution_count": 5,
   "metadata": {},
   "outputs": [],
   "source": [
    "def textPreprocessing(csvData):\n",
    "    data = []\n",
    "    stemmer= WordNetLemmatizer()\n",
    "    \n",
    "    #lower case\n",
    "    csvData = csvData.str.lower()\n",
    "    for i in range(len(csvData)):\n",
    "        # Eliminate special characters\n",
    "        document = re.sub(r'\\W', ' ', str(csvData[i]))\n",
    "        # Lemmatize\n",
    "        document = document.split()\n",
    "        document = [stemmer.lemmatize(word) for word in document]\n",
    "        document = ' '.join(document)\n",
    "        data.append(document)\n",
    "        \n",
    "    #dataframe for saving lemmatized review data    \n",
    "    df = pd.DataFrame({'Review':data})\n",
    "    return df"
   ]
  },
  {
   "cell_type": "markdown",
   "metadata": {},
   "source": [
    "### Function of Vectorizer using TF IDF\n",
    "The text data is converted to numeric data by using tf-idf vectorizer for further classification process. \n",
    "While converting, the stop words are also removed from the text.\n",
    "The minimum document frequency used is 3\n"
   ]
  },
  {
   "cell_type": "code",
   "execution_count": 6,
   "metadata": {},
   "outputs": [],
   "source": [
    "def vectorize(Xtrain, Xtest):\n",
    "    \n",
    "    #stop words are removed while vectorization, minimum document frequency is set to 3 \n",
    "    vectorizer = TfidfVectorizer(stop_words=\"english\",min_df = 3)\n",
    "    \n",
    "    #fit transform is done on training data\n",
    "    Xtrain = vectorizer.fit_transform(Xtrain)\n",
    "    Xtest = vectorizer.transform(Xtest)\n",
    "    \n",
    "    #return transformed data\n",
    "    return Xtrain, Xtest\n",
    "   "
   ]
  },
  {
   "cell_type": "markdown",
   "metadata": {},
   "source": [
    "### Function for Fitting models"
   ]
  },
  {
   "cell_type": "code",
   "execution_count": 7,
   "metadata": {},
   "outputs": [],
   "source": [
    "models = []\n",
    "def model_train(Xtrain, ytrain):\n",
    "    #model array\n",
    "    models = [\n",
    "        KNeighborsClassifier(n_neighbors = 5),\n",
    "        LogisticRegression(solver='lbfgs'),\n",
    "        RandomForestClassifier(n_estimators=300, max_features = 3, min_samples_split=200, random_state=0),\n",
    "        svm.SVC(kernel='linear', probability=True)\n",
    "    ]\n",
    "    for model in models:\n",
    "        model.fit(Xtrain, ytrain)\n",
    "        \n",
    "    return models\n",
    "       "
   ]
  },
  {
   "cell_type": "markdown",
   "metadata": {},
   "source": [
    "### Function for performance evaluation"
   ]
  },
  {
   "cell_type": "code",
   "execution_count": 8,
   "metadata": {},
   "outputs": [],
   "source": [
    "def evaluation(model, ytest, Xtest):\n",
    "    prediction = model.predict(Xtest)\n",
    "    accuracyValue = accuracy_score(ytest, prediction) * 100\n",
    "    print('\\n-------------------------------------',model.__class__.__name__,'-------------------------------------')\n",
    "    print('\\nACCURACY', accuracyValue)\n",
    "    print('\\nCONFUSION MATRIX\\n', confusion_matrix(prediction, ytest),'\\n','\\nCLASSIFICATION REPORT\\n', classification_report(prediction, ytest)) \n",
    "    return accuracyValue"
   ]
  },
  {
   "cell_type": "markdown",
   "metadata": {},
   "source": [
    "### Function for ROC"
   ]
  },
  {
   "cell_type": "code",
   "execution_count": 9,
   "metadata": {},
   "outputs": [],
   "source": [
    "def roc_plot(model, Xtest, ytest):\n",
    "    probs = model.predict_proba(Xtest)\n",
    "    probs = probs[:, 1]\n",
    "    falseposrate, trueposrate, thresholds = roc_curve(ytest, probs)\n",
    "    RocAuc = auc(falseposrate, trueposrate)\n",
    "    plt.figure(figsize=(5,5))\n",
    "    plt.title('ROC')\n",
    "    plt.plot(falseposrate,trueposrate, color='red',label = 'AUC = %0.2f' % RocAuc)\n",
    "    plt.legend(loc = 'lower right')\n",
    "    plt.plot([0, 1], [0, 1],linestyle='--')\n",
    "    plt.axis('tight')\n",
    "    plt.ylabel('True Positive Rate')\n",
    "    plt.xlabel('False Positive Rate')"
   ]
  },
  {
   "cell_type": "markdown",
   "metadata": {},
   "source": [
    "## Category 1 - Restaurant"
   ]
  },
  {
   "cell_type": "code",
   "execution_count": 10,
   "metadata": {},
   "outputs": [
    {
     "data": {
      "text/html": [
       "<div>\n",
       "<style scoped>\n",
       "    .dataframe tbody tr th:only-of-type {\n",
       "        vertical-align: middle;\n",
       "    }\n",
       "\n",
       "    .dataframe tbody tr th {\n",
       "        vertical-align: top;\n",
       "    }\n",
       "\n",
       "    .dataframe thead th {\n",
       "        text-align: right;\n",
       "    }\n",
       "</style>\n",
       "<table border=\"1\" class=\"dataframe\">\n",
       "  <thead>\n",
       "    <tr style=\"text-align: right;\">\n",
       "      <th></th>\n",
       "      <th>Review</th>\n",
       "      <th>Ratings</th>\n",
       "    </tr>\n",
       "  </thead>\n",
       "  <tbody>\n",
       "    <tr>\n",
       "      <th>count</th>\n",
       "      <td>1440</td>\n",
       "      <td>1440</td>\n",
       "    </tr>\n",
       "    <tr>\n",
       "      <th>unique</th>\n",
       "      <td>1440</td>\n",
       "      <td>2</td>\n",
       "    </tr>\n",
       "    <tr>\n",
       "      <th>top</th>\n",
       "      <td>Charlie is really friendly. If you introduce y...</td>\n",
       "      <td>positive</td>\n",
       "    </tr>\n",
       "    <tr>\n",
       "      <th>freq</th>\n",
       "      <td>1</td>\n",
       "      <td>933</td>\n",
       "    </tr>\n",
       "  </tbody>\n",
       "</table>\n",
       "</div>"
      ],
      "text/plain": [
       "                                                   Review   Ratings\n",
       "count                                                1440      1440\n",
       "unique                                               1440         2\n",
       "top     Charlie is really friendly. If you introduce y...  positive\n",
       "freq                                                    1       933"
      ]
     },
     "execution_count": 10,
     "metadata": {},
     "output_type": "execute_result"
    }
   ],
   "source": [
    "data_restaurant.describe()"
   ]
  },
  {
   "cell_type": "code",
   "execution_count": 11,
   "metadata": {},
   "outputs": [
    {
     "data": {
      "text/html": [
       "<div>\n",
       "<style scoped>\n",
       "    .dataframe tbody tr th:only-of-type {\n",
       "        vertical-align: middle;\n",
       "    }\n",
       "\n",
       "    .dataframe tbody tr th {\n",
       "        vertical-align: top;\n",
       "    }\n",
       "\n",
       "    .dataframe thead th {\n",
       "        text-align: right;\n",
       "    }\n",
       "</style>\n",
       "<table border=\"1\" class=\"dataframe\">\n",
       "  <thead>\n",
       "    <tr style=\"text-align: right;\">\n",
       "      <th></th>\n",
       "      <th>Review</th>\n",
       "      <th>Ratings</th>\n",
       "    </tr>\n",
       "  </thead>\n",
       "  <tbody>\n",
       "    <tr>\n",
       "      <th>0</th>\n",
       "      <td>Too expensive for what they had... i had an eg...</td>\n",
       "      <td>negative</td>\n",
       "    </tr>\n",
       "    <tr>\n",
       "      <th>1</th>\n",
       "      <td>Very rustic place. Mismatched furniture, off K...</td>\n",
       "      <td>positive</td>\n",
       "    </tr>\n",
       "    <tr>\n",
       "      <th>2</th>\n",
       "      <td>I highly recommend Au Festin de Babette for th...</td>\n",
       "      <td>positive</td>\n",
       "    </tr>\n",
       "    <tr>\n",
       "      <th>3</th>\n",
       "      <td>Amazing soup and dauphinoise. BUT the wait for...</td>\n",
       "      <td>negative</td>\n",
       "    </tr>\n",
       "    <tr>\n",
       "      <th>4</th>\n",
       "      <td>I went here by recommendation of a friend. Tho...</td>\n",
       "      <td>negative</td>\n",
       "    </tr>\n",
       "  </tbody>\n",
       "</table>\n",
       "</div>"
      ],
      "text/plain": [
       "                                              Review   Ratings\n",
       "0  Too expensive for what they had... i had an eg...  negative\n",
       "1  Very rustic place. Mismatched furniture, off K...  positive\n",
       "2  I highly recommend Au Festin de Babette for th...  positive\n",
       "3  Amazing soup and dauphinoise. BUT the wait for...  negative\n",
       "4  I went here by recommendation of a friend. Tho...  negative"
      ]
     },
     "execution_count": 11,
     "metadata": {},
     "output_type": "execute_result"
    }
   ],
   "source": [
    "data_restaurant.head()"
   ]
  },
  {
   "cell_type": "code",
   "execution_count": 12,
   "metadata": {},
   "outputs": [
    {
     "data": {
      "text/plain": [
       "positive    933\n",
       "negative    507\n",
       "Name: Ratings, dtype: int64"
      ]
     },
     "execution_count": 12,
     "metadata": {},
     "output_type": "execute_result"
    }
   ],
   "source": [
    "data_restaurant[\"Ratings\"].value_counts()"
   ]
  },
  {
   "cell_type": "markdown",
   "metadata": {},
   "source": [
    "### Text preprocessing - Category 1\n",
    "The restaurant data is preprocessed by calling a function textpreprocessing, also the Rating data that comprises positive and negative is converted to numeric data; that is, \n",
    "\n",
    "<b> Positive = 0 </b>\n",
    "<b> Negative = 1 </b>\n"
   ]
  },
  {
   "cell_type": "code",
   "execution_count": 13,
   "metadata": {},
   "outputs": [
    {
     "name": "stdout",
     "output_type": "stream",
     "text": [
      "                                              Review  Ratings\n",
      "0  too expensive for what they had i had an egg b...        1\n",
      "1  very rustic place mismatched furniture off kni...        0\n",
      "2  i highly recommend au festin de babette for th...        0\n",
      "3  amazing soup and dauphinoise but the wait for ...        1\n",
      "4  i went here by recommendation of a friend thou...        1\n"
     ]
    }
   ],
   "source": [
    "preprocessed_data_A = textPreprocessing(data_restaurant['Review'])\n",
    "preprocessed_data_A['Ratings'] = data_restaurant['Ratings']\n",
    "\n",
    "classes = {\"Ratings\": {\"positive\":0, \"negative\":1}}\n",
    "preprocessed_data_A.replace(classes, inplace=True)\n",
    "\n",
    "X_A = preprocessed_data_A['Review']\n",
    "y_A = preprocessed_data_A['Ratings']\n",
    "\n",
    "print(preprocessed_data_A.head())"
   ]
  },
  {
   "cell_type": "markdown",
   "metadata": {},
   "source": [
    "<b> Before fitting the model, the dataset is splitted into 75% training and 25 % testing</b>"
   ]
  },
  {
   "cell_type": "code",
   "execution_count": 14,
   "metadata": {},
   "outputs": [],
   "source": [
    "#train test split of restaurant data\n",
    "Xtrain, Xtest, ytrain, ytest = train_test_split(X_A, y_A, test_size = 0.25, stratify = y_A)\n",
    "\n",
    "#tf-idf vectorization of training data\n",
    "Xtrain, Xtest = vectorize(Xtrain, Xtest)\n",
    "\n",
    "#model fitting\n",
    "models = model_train(Xtrain, ytrain)"
   ]
  },
  {
   "cell_type": "markdown",
   "metadata": {},
   "source": [
    "### Performance evaluation of Category 1"
   ]
  },
  {
   "cell_type": "code",
   "execution_count": 15,
   "metadata": {},
   "outputs": [
    {
     "name": "stdout",
     "output_type": "stream",
     "text": [
      "\n",
      "------------------------------------- KNeighborsClassifier -------------------------------------\n",
      "\n",
      "ACCURACY 79.16666666666666\n",
      "\n",
      "CONFUSION MATRIX\n",
      " [[214  56]\n",
      " [ 19  71]] \n",
      " \n",
      "CLASSIFICATION REPORT\n",
      "               precision    recall  f1-score   support\n",
      "\n",
      "           0       0.92      0.79      0.85       270\n",
      "           1       0.56      0.79      0.65        90\n",
      "\n",
      "   micro avg       0.79      0.79      0.79       360\n",
      "   macro avg       0.74      0.79      0.75       360\n",
      "weighted avg       0.83      0.79      0.80       360\n",
      "\n"
     ]
    }
   ],
   "source": [
    "#evaluate model by calculating accuracy, confusion matrix and classification report\n",
    "accuracy_KNN_A = evaluation(models[0], ytest, Xtest)"
   ]
  },
  {
   "cell_type": "code",
   "execution_count": 16,
   "metadata": {},
   "outputs": [
    {
     "name": "stdout",
     "output_type": "stream",
     "text": [
      "\n",
      "------------------------------------- LogisticRegression -------------------------------------\n",
      "\n",
      "ACCURACY 83.05555555555556\n",
      "\n",
      "CONFUSION MATRIX\n",
      " [[227  55]\n",
      " [  6  72]] \n",
      " \n",
      "CLASSIFICATION REPORT\n",
      "               precision    recall  f1-score   support\n",
      "\n",
      "           0       0.97      0.80      0.88       282\n",
      "           1       0.57      0.92      0.70        78\n",
      "\n",
      "   micro avg       0.83      0.83      0.83       360\n",
      "   macro avg       0.77      0.86      0.79       360\n",
      "weighted avg       0.89      0.83      0.84       360\n",
      "\n"
     ]
    },
    {
     "data": {
      "image/png": "[encoded data removed]",
      "text/plain": [
       "<Figure size 360x360 with 1 Axes>"
      ]
     },
     "metadata": {
      "needs_background": "light"
     },
     "output_type": "display_data"
    }
   ],
   "source": [
    "accuracy_LogReg_A = evaluation(models[1], ytest, Xtest)\n",
    "roc_plot(models[1], Xtest, ytest)"
   ]
  },
  {
   "cell_type": "code",
   "execution_count": 17,
   "metadata": {},
   "outputs": [
    {
     "name": "stdout",
     "output_type": "stream",
     "text": [
      "\n",
      "------------------------------------- RandomForestClassifier -------------------------------------\n",
      "\n",
      "ACCURACY 70.55555555555556\n",
      "\n",
      "CONFUSION MATRIX\n",
      " [[231 104]\n",
      " [  2  23]] \n",
      " \n",
      "CLASSIFICATION REPORT\n",
      "               precision    recall  f1-score   support\n",
      "\n",
      "           0       0.99      0.69      0.81       335\n",
      "           1       0.18      0.92      0.30        25\n",
      "\n",
      "   micro avg       0.71      0.71      0.71       360\n",
      "   macro avg       0.59      0.80      0.56       360\n",
      "weighted avg       0.94      0.71      0.78       360\n",
      "\n"
     ]
    }
   ],
   "source": [
    "accuracy_Rand_A = evaluation(models[2], ytest, Xtest)"
   ]
  },
  {
   "cell_type": "code",
   "execution_count": 18,
   "metadata": {},
   "outputs": [
    {
     "name": "stdout",
     "output_type": "stream",
     "text": [
      "\n",
      "------------------------------------- SVC -------------------------------------\n",
      "\n",
      "ACCURACY 87.22222222222223\n",
      "\n",
      "CONFUSION MATRIX\n",
      " [[218  31]\n",
      " [ 15  96]] \n",
      " \n",
      "CLASSIFICATION REPORT\n",
      "               precision    recall  f1-score   support\n",
      "\n",
      "           0       0.94      0.88      0.90       249\n",
      "           1       0.76      0.86      0.81       111\n",
      "\n",
      "   micro avg       0.87      0.87      0.87       360\n",
      "   macro avg       0.85      0.87      0.86       360\n",
      "weighted avg       0.88      0.87      0.87       360\n",
      "\n"
     ]
    },
    {
     "data": {
      "image/png": "[encoded data removed]",
      "text/plain": [
       "<Figure size 360x360 with 1 Axes>"
      ]
     },
     "metadata": {
      "needs_background": "light"
     },
     "output_type": "display_data"
    }
   ],
   "source": [
    "accuracy_SVM_A = evaluation(models[3], ytest, Xtest)\n",
    "roc_plot(models[3], Xtest, ytest)"
   ]
  },
  {
   "cell_type": "markdown",
   "metadata": {},
   "source": [
    "### Comparison of models based on accuracy - Category 1"
   ]
  },
  {
   "cell_type": "code",
   "execution_count": 19,
   "metadata": {
    "scrolled": false
   },
   "outputs": [
    {
     "data": {
      "image/png": "[encoded data removed]",
      "text/plain": [
       "<Figure size 504x360 with 1 Axes>"
      ]
     },
     "metadata": {
      "needs_background": "light"
     },
     "output_type": "display_data"
    }
   ],
   "source": [
    "array_accuracy = [accuracy_KNN_A, accuracy_LogReg_A, accuracy_Rand_A, accuracy_SVM_A]\n",
    "model_name = ['KNN','Log Reg', 'Random forest', 'SVM']\n",
    "plt.figure(figsize=(7,5))\n",
    "plt.bar(model_name, array_accuracy)\n",
    "plt.xlabel('\\n Model name')\n",
    "plt.ylabel('Accuracy (%)')\n",
    "plt.ylim(bottom=70)\n",
    "plt.yticks(np.arange(60, 100, 5))\n",
    "plt.show()"
   ]
  },
  {
   "cell_type": "markdown",
   "metadata": {},
   "source": [
    "## Evaluation of Category 1 dataset:\n",
    "From the above analysis we have following observations:\n",
    "\n",
    "1. <b>Accuracy:</b> The accuracy of Logistic Regression model(83.05%) and SVM model(87.22) is much better than the other 2 models that is, KNN(79.16) and Random forest(70.55).\n",
    "\n",
    "2. <b>Confusion matrix:</b> Looking at the confusion matrix of all the four models, it is quite clear that, SVM and logistic regression are predicting more correct values and less incorrect values compared to KNN and Random forest.\n",
    "\n",
    "3. <b>Classification Report:</b> Based on the f1-score, we can say that SVM and logistic regression has classified many instances correctly with weighted average, 0.87 and 0.84, respectively and they are more precise as compared to other two models. \n"
   ]
  },
  {
   "cell_type": "markdown",
   "metadata": {},
   "source": [
    "### Category 2 - Hotel_travel : Data Exploration"
   ]
  },
  {
   "cell_type": "code",
   "execution_count": 20,
   "metadata": {},
   "outputs": [
    {
     "data": {
      "text/html": [
       "<div>\n",
       "<style scoped>\n",
       "    .dataframe tbody tr th:only-of-type {\n",
       "        vertical-align: middle;\n",
       "    }\n",
       "\n",
       "    .dataframe tbody tr th {\n",
       "        vertical-align: top;\n",
       "    }\n",
       "\n",
       "    .dataframe thead th {\n",
       "        text-align: right;\n",
       "    }\n",
       "</style>\n",
       "<table border=\"1\" class=\"dataframe\">\n",
       "  <thead>\n",
       "    <tr style=\"text-align: right;\">\n",
       "      <th></th>\n",
       "      <th>Review</th>\n",
       "      <th>Ratings</th>\n",
       "    </tr>\n",
       "  </thead>\n",
       "  <tbody>\n",
       "    <tr>\n",
       "      <th>count</th>\n",
       "      <td>1430</td>\n",
       "      <td>1430</td>\n",
       "    </tr>\n",
       "    <tr>\n",
       "      <th>unique</th>\n",
       "      <td>1430</td>\n",
       "      <td>2</td>\n",
       "    </tr>\n",
       "    <tr>\n",
       "      <th>top</th>\n",
       "      <td>Gorgeous hotel in the heart of Montreal. The h...</td>\n",
       "      <td>positive</td>\n",
       "    </tr>\n",
       "    <tr>\n",
       "      <th>freq</th>\n",
       "      <td>1</td>\n",
       "      <td>793</td>\n",
       "    </tr>\n",
       "  </tbody>\n",
       "</table>\n",
       "</div>"
      ],
      "text/plain": [
       "                                                   Review   Ratings\n",
       "count                                                1430      1430\n",
       "unique                                               1430         2\n",
       "top     Gorgeous hotel in the heart of Montreal. The h...  positive\n",
       "freq                                                    1       793"
      ]
     },
     "execution_count": 20,
     "metadata": {},
     "output_type": "execute_result"
    }
   ],
   "source": [
    "data_hotels_travel.describe()"
   ]
  },
  {
   "cell_type": "code",
   "execution_count": 21,
   "metadata": {},
   "outputs": [
    {
     "data": {
      "text/html": [
       "<div>\n",
       "<style scoped>\n",
       "    .dataframe tbody tr th:only-of-type {\n",
       "        vertical-align: middle;\n",
       "    }\n",
       "\n",
       "    .dataframe tbody tr th {\n",
       "        vertical-align: top;\n",
       "    }\n",
       "\n",
       "    .dataframe thead th {\n",
       "        text-align: right;\n",
       "    }\n",
       "</style>\n",
       "<table border=\"1\" class=\"dataframe\">\n",
       "  <thead>\n",
       "    <tr style=\"text-align: right;\">\n",
       "      <th></th>\n",
       "      <th>Review</th>\n",
       "      <th>Ratings</th>\n",
       "    </tr>\n",
       "  </thead>\n",
       "  <tbody>\n",
       "    <tr>\n",
       "      <th>0</th>\n",
       "      <td>I have used this service before and was satisf...</td>\n",
       "      <td>negative</td>\n",
       "    </tr>\n",
       "    <tr>\n",
       "      <th>1</th>\n",
       "      <td>First time I tried using them the driver was n...</td>\n",
       "      <td>negative</td>\n",
       "    </tr>\n",
       "    <tr>\n",
       "      <th>2</th>\n",
       "      <td>Driver picked me up on time at 6AM and even kn...</td>\n",
       "      <td>positive</td>\n",
       "    </tr>\n",
       "    <tr>\n",
       "      <th>3</th>\n",
       "      <td>First time using this taxi and limo company as...</td>\n",
       "      <td>positive</td>\n",
       "    </tr>\n",
       "    <tr>\n",
       "      <th>4</th>\n",
       "      <td>Great experience. Driver was early and was ver...</td>\n",
       "      <td>positive</td>\n",
       "    </tr>\n",
       "  </tbody>\n",
       "</table>\n",
       "</div>"
      ],
      "text/plain": [
       "                                              Review   Ratings\n",
       "0  I have used this service before and was satisf...  negative\n",
       "1  First time I tried using them the driver was n...  negative\n",
       "2  Driver picked me up on time at 6AM and even kn...  positive\n",
       "3  First time using this taxi and limo company as...  positive\n",
       "4  Great experience. Driver was early and was ver...  positive"
      ]
     },
     "execution_count": 21,
     "metadata": {},
     "output_type": "execute_result"
    }
   ],
   "source": [
    "data_hotels_travel.head()"
   ]
  },
  {
   "cell_type": "code",
   "execution_count": 22,
   "metadata": {},
   "outputs": [
    {
     "data": {
      "text/plain": [
       "positive    793\n",
       "negative    637\n",
       "Name: Ratings, dtype: int64"
      ]
     },
     "execution_count": 22,
     "metadata": {},
     "output_type": "execute_result"
    }
   ],
   "source": [
    "data_hotels_travel[\"Ratings\"].value_counts()"
   ]
  },
  {
   "cell_type": "markdown",
   "metadata": {},
   "source": [
    "### Text preprocessing - Category 2 : Hotels_Travel"
   ]
  },
  {
   "cell_type": "code",
   "execution_count": 39,
   "metadata": {},
   "outputs": [
    {
     "name": "stdout",
     "output_type": "stream",
     "text": [
      "                                              Review  Ratings\n",
      "0  i have used this service before and wa satisfi...        1\n",
      "1  first time i tried using them the driver wa no...        1\n",
      "2  driver picked me up on time at 6am and even kn...        0\n",
      "3  first time using this taxi and limo company a ...        0\n",
      "4  great experience driver wa early and wa very f...        0\n"
     ]
    }
   ],
   "source": [
    "#preprocessing text data\n",
    "preprocessed_data_B = textPreprocessing(data_hotels_travel['Review'])\n",
    "preprocessed_data_B['Ratings'] = data_hotels_travel['Ratings']\n",
    "\n",
    "classes = {\"Ratings\": {\"positive\":0, \"negative\":1}}\n",
    "preprocessed_data_B.replace(classes, inplace=True)\n",
    "\n",
    "X_B = preprocessed_data_B['Review']\n",
    "y_B = preprocessed_data_B['Ratings']\n",
    "\n",
    "print(preprocessed_data_B.head())"
   ]
  },
  {
   "cell_type": "markdown",
   "metadata": {},
   "source": [
    "<b> Before fitting the model, the dataset of category B is splitted into 75% training and 25 % testing</b>"
   ]
  },
  {
   "cell_type": "code",
   "execution_count": 24,
   "metadata": {},
   "outputs": [],
   "source": [
    "#train test split of restaurant data\n",
    "Xtrain_B, Xtest_B, ytrain_B, ytest_B = train_test_split(X_B, y_B, test_size = 0.25, stratify = y_B)\n",
    "\n",
    "#tf-idf vectorization of training data\n",
    "Xtrain_B, Xtest_B = vectorize(Xtrain_B, Xtest_B)\n",
    "\n",
    "#model fitting\n",
    "models = model_train(Xtrain_B, ytrain_B)"
   ]
  },
  {
   "cell_type": "markdown",
   "metadata": {},
   "source": [
    "### Performance evaluation of Data models using Category 2"
   ]
  },
  {
   "cell_type": "code",
   "execution_count": 25,
   "metadata": {},
   "outputs": [
    {
     "name": "stdout",
     "output_type": "stream",
     "text": [
      "\n",
      "------------------------------------- KNeighborsClassifier -------------------------------------\n",
      "\n",
      "ACCURACY 78.2122905027933\n",
      "\n",
      "CONFUSION MATRIX\n",
      " [[168  47]\n",
      " [ 31 112]] \n",
      " \n",
      "CLASSIFICATION REPORT\n",
      "               precision    recall  f1-score   support\n",
      "\n",
      "           0       0.84      0.78      0.81       215\n",
      "           1       0.70      0.78      0.74       143\n",
      "\n",
      "   micro avg       0.78      0.78      0.78       358\n",
      "   macro avg       0.77      0.78      0.78       358\n",
      "weighted avg       0.79      0.78      0.78       358\n",
      "\n"
     ]
    }
   ],
   "source": [
    "#evaluate model by calculating accuracy, confusion matrix and classification report\n",
    "accuracy_KNN_B = evaluation(models[0], ytest_B, Xtest_B)"
   ]
  },
  {
   "cell_type": "code",
   "execution_count": 26,
   "metadata": {},
   "outputs": [
    {
     "name": "stdout",
     "output_type": "stream",
     "text": [
      "\n",
      "------------------------------------- LogisticRegression -------------------------------------\n",
      "\n",
      "ACCURACY 87.98882681564247\n",
      "\n",
      "CONFUSION MATRIX\n",
      " [[184  28]\n",
      " [ 15 131]] \n",
      " \n",
      "CLASSIFICATION REPORT\n",
      "               precision    recall  f1-score   support\n",
      "\n",
      "           0       0.92      0.87      0.90       212\n",
      "           1       0.82      0.90      0.86       146\n",
      "\n",
      "   micro avg       0.88      0.88      0.88       358\n",
      "   macro avg       0.87      0.88      0.88       358\n",
      "weighted avg       0.88      0.88      0.88       358\n",
      "\n"
     ]
    },
    {
     "data": {
      "image/png": "[encoded data removed]",
      "text/plain": [
       "<Figure size 360x360 with 1 Axes>"
      ]
     },
     "metadata": {
      "needs_background": "light"
     },
     "output_type": "display_data"
    }
   ],
   "source": [
    "accuracy_LogReg_B = evaluation(models[1], ytest_B, Xtest_B)\n",
    "roc_plot(models[1], Xtest_B, ytest_B)"
   ]
  },
  {
   "cell_type": "code",
   "execution_count": 27,
   "metadata": {},
   "outputs": [
    {
     "name": "stdout",
     "output_type": "stream",
     "text": [
      "\n",
      "------------------------------------- RandomForestClassifier -------------------------------------\n",
      "\n",
      "ACCURACY 83.24022346368714\n",
      "\n",
      "CONFUSION MATRIX\n",
      " [[188  49]\n",
      " [ 11 110]] \n",
      " \n",
      "CLASSIFICATION REPORT\n",
      "               precision    recall  f1-score   support\n",
      "\n",
      "           0       0.94      0.79      0.86       237\n",
      "           1       0.69      0.91      0.79       121\n",
      "\n",
      "   micro avg       0.83      0.83      0.83       358\n",
      "   macro avg       0.82      0.85      0.82       358\n",
      "weighted avg       0.86      0.83      0.84       358\n",
      "\n"
     ]
    }
   ],
   "source": [
    "accuracy_Rand_B = evaluation(models[2], ytest_B, Xtest_B)"
   ]
  },
  {
   "cell_type": "code",
   "execution_count": 28,
   "metadata": {},
   "outputs": [
    {
     "name": "stdout",
     "output_type": "stream",
     "text": [
      "\n",
      "------------------------------------- SVC -------------------------------------\n",
      "\n",
      "ACCURACY 89.10614525139665\n",
      "\n",
      "CONFUSION MATRIX\n",
      " [[182  22]\n",
      " [ 17 137]] \n",
      " \n",
      "CLASSIFICATION REPORT\n",
      "               precision    recall  f1-score   support\n",
      "\n",
      "           0       0.91      0.89      0.90       204\n",
      "           1       0.86      0.89      0.88       154\n",
      "\n",
      "   micro avg       0.89      0.89      0.89       358\n",
      "   macro avg       0.89      0.89      0.89       358\n",
      "weighted avg       0.89      0.89      0.89       358\n",
      "\n"
     ]
    },
    {
     "data": {
      "image/png": "[encoded data removed]",
      "text/plain": [
       "<Figure size 360x360 with 1 Axes>"
      ]
     },
     "metadata": {
      "needs_background": "light"
     },
     "output_type": "display_data"
    }
   ],
   "source": [
    "accuracy_SVM_B = evaluation(models[3], ytest_B, Xtest_B)\n",
    "roc_plot(models[3], Xtest_B, ytest_B)"
   ]
  },
  {
   "cell_type": "markdown",
   "metadata": {},
   "source": [
    "### Comparison of models based on accuracy - Category 2"
   ]
  },
  {
   "cell_type": "code",
   "execution_count": 29,
   "metadata": {
    "scrolled": true
   },
   "outputs": [
    {
     "data": {
      "image/png": "[encoded data removed]",
      "text/plain": [
       "<Figure size 504x360 with 1 Axes>"
      ]
     },
     "metadata": {
      "needs_background": "light"
     },
     "output_type": "display_data"
    }
   ],
   "source": [
    "array_accuracy = [accuracy_KNN_B, accuracy_LogReg_B, accuracy_Rand_B, accuracy_SVM_B]\n",
    "model_name = ['KNN','Log Reg', 'Random forest', 'SVM']\n",
    "plt.figure(figsize=(7,5))\n",
    "plt.bar(model_name, array_accuracy)\n",
    "plt.xlabel('\\n Model name')\n",
    "plt.ylabel('Accuracy (%)')\n",
    "plt.ylim(bottom=70)\n",
    "plt.yticks(np.arange(60, 100, 5))\n",
    "plt.show()"
   ]
  },
  {
   "cell_type": "markdown",
   "metadata": {},
   "source": [
    "## Evaluation of Category 2 dataset:\n",
    "\n",
    "The category is hotel_travel data, having 1430 records of review and ratings out of which 793 are positive ratings and 637 are negative ratings.\n",
    "\n",
    "From the above analysis we have following observations:\n",
    "\n",
    "1. <b>Accuracy:</b> The accuracy of Logistic Regression model(87.99%) and SVM model(89.10) is much better than the other 2 models that is, KNN(78.21%) and Random forest(83.24%).\n",
    "\n",
    "2. <b>Confusion matrix:</b> Looking at the confusion matrix of all the four models, it is quite clear that, SVM and logistic regression are predicting more correct values and less incorrect values compared to KNN and Random forest.\n",
    "\n",
    "3. <b>Classification Report:</b> Based on the f1-score, we can say that SVM and logistic regression has classified many instances correctly with weighted average, 0.89 and 0.88, respectively and they are more precise as compared to other two models. \n"
   ]
  },
  {
   "cell_type": "markdown",
   "metadata": {},
   "source": [
    "### OverAll evaluation for catergory A and category B:"
   ]
  },
  {
   "cell_type": "markdown",
   "metadata": {},
   "source": [
    "As logistic regression and SVM are giving better performance than other models they can be considered for further analysis by using ROC curve.\n",
    "The Receiver operating characteristic is used for determining the performance of the model thereby, calculating TPR and FPR. This evaluation is done for identifying the area under the curve which depicts how good the model is in diffrentiating the classes. \n",
    "1. In SVM and logistic regression, the area under the curve is maximum as compared to the other models which confirms that these two models are the best.\n",
    "2. The area under the curve for SVM and logistic regression is approximately same but sometimes, SVM has more AUC than Logistic Regression which means, both are able to distinguish between the two classes (Positive and Negative) more precisely.\n",
    "3. Since, the AUC of svm and Logistic regression have no/minor differences between each other, we will use both this classifiers to test how the model transfers between various categories."
   ]
  },
  {
   "cell_type": "markdown",
   "metadata": {},
   "source": [
    "# TASK 3: Classification  models  transfer  between  category\n",
    "## Train on category A and test on category B"
   ]
  },
  {
   "cell_type": "markdown",
   "metadata": {},
   "source": [
    "### SVM"
   ]
  },
  {
   "cell_type": "code",
   "execution_count": 30,
   "metadata": {},
   "outputs": [
    {
     "name": "stdout",
     "output_type": "stream",
     "text": [
      "\n",
      "------------------------------------- SVC -------------------------------------\n",
      "\n",
      "ACCURACY 83.2867132867133\n",
      "\n",
      "CONFUSION MATRIX\n",
      " [[643  89]\n",
      " [150 548]] \n",
      " \n",
      "CLASSIFICATION REPORT\n",
      "               precision    recall  f1-score   support\n",
      "\n",
      "           0       0.81      0.88      0.84       732\n",
      "           1       0.86      0.79      0.82       698\n",
      "\n",
      "   micro avg       0.83      0.83      0.83      1430\n",
      "   macro avg       0.84      0.83      0.83      1430\n",
      "weighted avg       0.83      0.83      0.83      1430\n",
      "\n"
     ]
    }
   ],
   "source": [
    "#tf-idf vectorization of training data\n",
    "X_train_1, X_test_1 = vectorize(X_A, X_B)\n",
    "#model fitting\n",
    "SVM_model = svm.SVC(kernel='linear')\n",
    "svm_model = SVM_model.fit(X_train_1, y_A)\n",
    "#evaluate\n",
    "accuracy_SVM_1 = evaluation(svm_model, y_B, X_test_1)"
   ]
  },
  {
   "cell_type": "markdown",
   "metadata": {},
   "source": [
    "### Logistic Regression"
   ]
  },
  {
   "cell_type": "code",
   "execution_count": 31,
   "metadata": {},
   "outputs": [
    {
     "name": "stdout",
     "output_type": "stream",
     "text": [
      "\n",
      "------------------------------------- LogisticRegression -------------------------------------\n",
      "\n",
      "ACCURACY 82.0979020979021\n",
      "\n",
      "CONFUSION MATRIX\n",
      " [[737 200]\n",
      " [ 56 437]] \n",
      " \n",
      "CLASSIFICATION REPORT\n",
      "               precision    recall  f1-score   support\n",
      "\n",
      "           0       0.93      0.79      0.85       937\n",
      "           1       0.69      0.89      0.77       493\n",
      "\n",
      "   micro avg       0.82      0.82      0.82      1430\n",
      "   macro avg       0.81      0.84      0.81      1430\n",
      "weighted avg       0.85      0.82      0.82      1430\n",
      "\n"
     ]
    }
   ],
   "source": [
    "#tf-idf vectorization of training data\n",
    "X_train_1, X_test_1 = vectorize(X_A, X_B)\n",
    "#model fitting\n",
    "log_model = LogisticRegression(solver='lbfgs')\n",
    "log_model.fit(X_train_1, y_A)\n",
    "#evaluate\n",
    "accuracy_log_reg_1 = evaluation(log_model, y_B, X_test_1)"
   ]
  },
  {
   "cell_type": "markdown",
   "metadata": {},
   "source": [
    "## Train on Category B and Test on Category A"
   ]
  },
  {
   "cell_type": "markdown",
   "metadata": {},
   "source": [
    "### SVM"
   ]
  },
  {
   "cell_type": "code",
   "execution_count": 32,
   "metadata": {},
   "outputs": [
    {
     "name": "stdout",
     "output_type": "stream",
     "text": [
      "\n",
      "------------------------------------- SVC -------------------------------------\n",
      "\n",
      "ACCURACY 83.68055555555556\n",
      "\n",
      "CONFUSION MATRIX\n",
      " [[824 126]\n",
      " [109 381]] \n",
      " \n",
      "CLASSIFICATION REPORT\n",
      "               precision    recall  f1-score   support\n",
      "\n",
      "           0       0.88      0.87      0.88       950\n",
      "           1       0.75      0.78      0.76       490\n",
      "\n",
      "   micro avg       0.84      0.84      0.84      1440\n",
      "   macro avg       0.82      0.82      0.82      1440\n",
      "weighted avg       0.84      0.84      0.84      1440\n",
      "\n"
     ]
    }
   ],
   "source": [
    "#tf-idf vectorization of training data\n",
    "X_train_2, X_test_2 = vectorize(X_B, X_A)\n",
    "\n",
    "#model fitting\n",
    "SVM_model = svm.SVC(kernel='linear')\n",
    "svm_model = SVM_model.fit(X_train_2, y_B)\n",
    "\n",
    "#evaluate\n",
    "accuracy_SVM_2 = evaluation(svm_model, y_A, X_test_2)"
   ]
  },
  {
   "cell_type": "markdown",
   "metadata": {},
   "source": [
    "### Logistic Regression"
   ]
  },
  {
   "cell_type": "code",
   "execution_count": 33,
   "metadata": {},
   "outputs": [
    {
     "name": "stdout",
     "output_type": "stream",
     "text": [
      "\n",
      "------------------------------------- LogisticRegression -------------------------------------\n",
      "\n",
      "ACCURACY 83.19444444444444\n",
      "\n",
      "CONFUSION MATRIX\n",
      " [[888 197]\n",
      " [ 45 310]] \n",
      " \n",
      "CLASSIFICATION REPORT\n",
      "               precision    recall  f1-score   support\n",
      "\n",
      "           0       0.95      0.82      0.88      1085\n",
      "           1       0.61      0.87      0.72       355\n",
      "\n",
      "   micro avg       0.83      0.83      0.83      1440\n",
      "   macro avg       0.78      0.85      0.80      1440\n",
      "weighted avg       0.87      0.83      0.84      1440\n",
      "\n"
     ]
    }
   ],
   "source": [
    "#tf-idf vectorization of training data\n",
    "X_train_2, X_test_2 = vectorize(X_B, X_A)\n",
    "\n",
    "log_model = LogisticRegression(solver='lbfgs')\n",
    "log_model.fit(X_train_2, y_B)\n",
    "\n",
    "#evaluate\n",
    "accuracy_log_reg_2 = evaluation(log_model, y_A, X_test_2)"
   ]
  },
  {
   "cell_type": "markdown",
   "metadata": {},
   "source": [
    "### Evaluating classification models using Bar plot"
   ]
  },
  {
   "cell_type": "code",
   "execution_count": 42,
   "metadata": {},
   "outputs": [
    {
     "data": {
      "text/plain": [
       "(70, 90)"
      ]
     },
     "execution_count": 42,
     "metadata": {},
     "output_type": "execute_result"
    },
    {
     "data": {
      "image/png": "[encoded data removed]",
      "text/plain": [
       "<Figure size 720x360 with 1 Axes>"
      ]
     },
     "metadata": {
      "needs_background": "light"
     },
     "output_type": "display_data"
    }
   ],
   "source": [
    "x = pd.DataFrame([['Category A vs B',accuracy_SVM_1,accuracy_log_reg_1],\n",
    "                  ['Category B Vs A',accuracy_SVM_2,accuracy_log_reg_2],\n",
    "                  ['Category A vs A', accuracy_SVM_A,accuracy_LogReg_A],\n",
    "                  ['Category B vs B',accuracy_SVM_B,accuracy_LogReg_B]],\n",
    "                   columns = ['type','SVM','Logistic'])\n",
    "x.set_index('type', inplace=True)\n",
    "p = x.plot.bar(figsize=(10,5),fontsize=14,rot = 0)\n",
    "p.set_xlabel(\"Testing Category\",fontsize=14)\n",
    "p.set_ylabel(\"Accuracy\",fontsize=14)\n",
    "p.set_title(\"Results\",fontsize=14)\n",
    "p.set_ylim(70,90)"
   ]
  },
  {
   "cell_type": "markdown",
   "metadata": {},
   "source": [
    "## Analysis on Task 3\n",
    "While training and testing two categories interchangebly on two classification models, we have come to following analysis:\n",
    "1. While training on Category A and testing on Category B, performance of SVM was better compared to logistic regression.\n",
    "2. If we consider transfering of category in both the models:\n",
    "\n",
    "   a. In SVM, the accuracy while training on A and testing on B (accuracy = 82.09) is similar or almost equivalent to training on B and testing on A (accuracy = 83.68)  \n",
    "   \n",
    "   b. In logistic regression, the accuracy while training on A and testing on B (accuracy = 82.09) and training on B and testing on A (accuracy = 83.19) have a significant difference which shows, logistic regression is not much capable of transferring between categories and will give poor performance\n",
    "   \n",
    "   c. Since both the topic selected i.e restaurents and hotel travel are related to each other, both the model gives accurate predictions even while training on different datasets.\n",
    "   \n",
    "Overall we can say that the SVM is the best model for the given data as it can diffrentiate well between the various categories of the data, Also it give better accuracy score when we are testing this model interchangebly.\n",
    "Accuracy:\n",
    "SVM:\n",
    "<p>Train on Category A and test on category A : 87.22%</p>\n",
    "<p>Train on Category B and test on category B: 89.10%</p>\n",
    "<p>Train on Category A and test on category B: 83.28%</p>\n",
    "<p>Train on Category B and test on category A: 83.68%</p>\n",
    "\n",
    "The possible reason behind Svm working well is: \n",
    "\n",
    "SVM works by considering the hyper plane for deciding whether the words are positive or negative. It draws a decision boundary for allocating the vectors based on their categories. As, it works on the decision line, change in small amount of data won't affect the hyperplane and hence the accuracy is not much affected if the model is trained and tested on category A and B interchangebaly.  \n"
   ]
  }
 ],
 "metadata": {
  "kernelspec": {
   "display_name": "Python 3",
   "language": "python",
   "name": "python3"
  },
  "language_info": {
   "codemirror_mode": {
    "name": "ipython",
    "version": 3
   },
   "file_extension": ".py",
   "mimetype": "text/x-python",
   "name": "python",
   "nbconvert_exporter": "python",
   "pygments_lexer": "ipython3",
   "version": "3.6.8"
  }
 },
 "nbformat": 4,
 "nbformat_minor": 2
}
